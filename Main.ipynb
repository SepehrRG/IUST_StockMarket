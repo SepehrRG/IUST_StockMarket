{
 "cells": [
  {
   "cell_type": "code",
   "execution_count": 1,
   "id": "898416e0",
   "metadata": {},
   "outputs": [],
   "source": [
    "import pandas as pd\n",
    "import numpy as np\n",
    "import matplotlib.pyplot as plt\n",
    "import seaborn as sns\n",
    "import matplotlib.dates as mdates\n",
    "import datetime\n",
    "from datetime import timedelta\n",
    "from IPython.core.interactiveshell import InteractiveShell\n",
    "InteractiveShell.ast_node_interactivity = \"all\""
   ]
  },
  {
   "cell_type": "code",
   "execution_count": 2,
   "id": "07f8b4c8",
   "metadata": {},
   "outputs": [],
   "source": [
    "class Person:\n",
    "    def __init__(self, ID, name, last_name, birthday, credit,AAPL,AMZN,FB,GOOGL,TSLA):\n",
    "        self.name=name\n",
    "        self.last_name=last_name\n",
    "        self.ID=ID\n",
    "        self.birthday=birthday\n",
    "        self.credit=float(credit)\n",
    "        self.pAssets={'AAPL':AAPL,'AMZN':AMZN,'FB':FB,'GOOGL':GOOGL,'TSLA':TSLA}"
   ]
  },
  {
   "cell_type": "code",
   "execution_count": 3,
   "id": "2c0a03a3",
   "metadata": {},
   "outputs": [
    {
     "data": {
      "text/html": [
       "<div>\n",
       "<style scoped>\n",
       "    .dataframe tbody tr th:only-of-type {\n",
       "        vertical-align: middle;\n",
       "    }\n",
       "\n",
       "    .dataframe tbody tr th {\n",
       "        vertical-align: top;\n",
       "    }\n",
       "\n",
       "    .dataframe thead th {\n",
       "        text-align: right;\n",
       "    }\n",
       "</style>\n",
       "<table border=\"1\" class=\"dataframe\">\n",
       "  <thead>\n",
       "    <tr style=\"text-align: right;\">\n",
       "      <th></th>\n",
       "      <th>index</th>\n",
       "      <th>Date</th>\n",
       "      <th>Symbol</th>\n",
       "      <th>Open</th>\n",
       "      <th>Volume</th>\n",
       "    </tr>\n",
       "  </thead>\n",
       "  <tbody>\n",
       "    <tr>\n",
       "      <th>0</th>\n",
       "      <td>0</td>\n",
       "      <td>2009-12-31</td>\n",
       "      <td>AAPL</td>\n",
       "      <td>7.622500</td>\n",
       "      <td>493729600.0</td>\n",
       "    </tr>\n",
       "    <tr>\n",
       "      <th>1</th>\n",
       "      <td>1</td>\n",
       "      <td>2009-12-31</td>\n",
       "      <td>AMZN</td>\n",
       "      <td>136.250000</td>\n",
       "      <td>7599900.0</td>\n",
       "    </tr>\n",
       "    <tr>\n",
       "      <th>2</th>\n",
       "      <td>2</td>\n",
       "      <td>2009-12-31</td>\n",
       "      <td>FB</td>\n",
       "      <td>42.049999</td>\n",
       "      <td>573576400.0</td>\n",
       "    </tr>\n",
       "    <tr>\n",
       "      <th>3</th>\n",
       "      <td>3</td>\n",
       "      <td>2009-12-31</td>\n",
       "      <td>GOOGL</td>\n",
       "      <td>313.788788</td>\n",
       "      <td>3908488.0</td>\n",
       "    </tr>\n",
       "    <tr>\n",
       "      <th>4</th>\n",
       "      <td>4</td>\n",
       "      <td>2009-12-31</td>\n",
       "      <td>TSLA</td>\n",
       "      <td>3.800000</td>\n",
       "      <td>93831500.0</td>\n",
       "    </tr>\n",
       "  </tbody>\n",
       "</table>\n",
       "</div>"
      ],
      "text/plain": [
       "   index        Date Symbol        Open       Volume\n",
       "0      0  2009-12-31   AAPL    7.622500  493729600.0\n",
       "1      1  2009-12-31   AMZN  136.250000    7599900.0\n",
       "2      2  2009-12-31     FB   42.049999  573576400.0\n",
       "3      3  2009-12-31  GOOGL  313.788788    3908488.0\n",
       "4      4  2009-12-31   TSLA    3.800000   93831500.0"
      ]
     },
     "execution_count": 3,
     "metadata": {},
     "output_type": "execute_result"
    }
   ],
   "source": [
    "market=pd.read_csv(\"stock_market_data.csv\")\n",
    "market=market.sort_values(by=['Date', 'Symbol'])\n",
    "market=market.reset_index()\n",
    "market['index']=market.index\n",
    "market.head()\n"
   ]
  },
  {
   "cell_type": "code",
   "execution_count": 4,
   "id": "cbbf77a6",
   "metadata": {},
   "outputs": [],
   "source": [
    "#x=float(market.iloc[market.loc[market['Date']=='2009-12-31'][market['Symbol']=='AAPL'].index]['Open'].values)"
   ]
  },
  {
   "cell_type": "code",
   "execution_count": 5,
   "id": "979a0d3a",
   "metadata": {},
   "outputs": [
    {
     "name": "stdout",
     "output_type": "stream",
     "text": [
      "Enter date:\n",
      "2016/10/12\n",
      "2016-10-12 00:00:00\n"
     ]
    }
   ],
   "source": [
    "print(\"Enter date:\")\n",
    "y,m,d = input().split('/')\n",
    "dd = datetime.datetime(int(y), int(m), int(d))\n",
    "print(dd)"
   ]
  },
  {
   "cell_type": "code",
   "execution_count": 6,
   "id": "f2eef096",
   "metadata": {},
   "outputs": [],
   "source": [
    "f = open(\"Accounts.txt\", \"a\")\n",
    "f.close()\n",
    "f = open(\"temp_Accounts.txt\", \"a\")\n",
    "f.close()"
   ]
  },
  {
   "cell_type": "code",
   "execution_count": 7,
   "id": "9a5dd52d",
   "metadata": {},
   "outputs": [],
   "source": [
    "def Check_ID(ID):\n",
    "    f = open(\"Accounts.txt\")\n",
    "    while True:\n",
    "        s=f.readline()\n",
    "        l=s.split(',')\n",
    "        if l[0]==ID:\n",
    "            f.close()\n",
    "            return l\n",
    "        elif s==\"\":\n",
    "            f.close()\n",
    "            return False\n",
    "def Register(ID, name, last_name, birthday, credit):\n",
    "    f = open(\"Accounts.txt\", \"a\")\n",
    "    f.write('\\n'+ID+','+name+','+last_name+','+birthday+','+credit+','+ AAPL+','+AMZN+','+FB+','+GOOGL+','+TSLA)\n",
    "    f.close()\n",
    "\n",
    "def Assets():\n",
    "    print(p.pAssets)\n",
    "def Buy():\n",
    "    order=input('Which stock?')\n",
    "    x=float(market.iloc[market.loc[market['Date']==dd.strftime(\"%Y-%m-%d\")][market['Symbol']==order].index]['Open'].values)\n",
    "    if p.credit>= x:\n",
    "        p.pAssets[order] =p.pAssets[order]+1\n",
    "        p.credit=p.credit-x\n",
    "        print('you successfully by 1 stock of '+ str(order)+'\\nyour current credit is '+str(p.credit))\n",
    "    else:\n",
    "        print('You do not have enough credit')\n",
    "def Sell():\n",
    "    Assets()\n",
    "    order=input('Which stock? ')\n",
    "    x=float(market.iloc[market.loc[market['Date']==dd.strftime(\"%Y-%m-%d\")][market['Symbol']==order].index]['Open'].values)\n",
    "    p.pAssets[order] =p.pAssets[order]-1\n",
    "    p.credit=p.credit+x\n",
    "    print('you successfully by 1 stock of '+ str(order)+'\\nyour current credit is '+str(p.credit))\n",
    "def Rewrite_credit(ID):\n",
    "    f = open(\"Accounts.txt\", \"r\")\n",
    "    w = open(\"temp_Accounts.txt\", \"w\")\n",
    "    while True:\n",
    "        s=f.readline()\n",
    "        l=s.split(',')\n",
    "        if l[0]==ID:\n",
    "            w.write('\\n'+p.ID+','+p.name+','+p.last_name+','+p.birthday+','+str(p.credit)+','+ str(p.pAssets['AAPL'])+','+str(p.pAssets['AMZN'])+','+str(p.pAssets['FB'])+','+str(p.pAssets['GOOGL'])+','+str(p.pAssets['TSLA']))\n",
    "        elif s=='':\n",
    "            break\n",
    "        else:\n",
    "            w.write('\\n'+s)\n",
    "    f.close()\n",
    "    w.close()\n",
    "    w = open(\"Accounts.txt\", \"w\")\n",
    "    f = open(\"temp_Accounts.txt\", \"r\")\n",
    "    w.write(f.read())\n",
    "    w.close()\n",
    "    f.close()\n",
    "def chart():\n",
    "    market['Date'] = pd.to_datetime(market['Date'])\n",
    "    x=market.loc[market['Date']==dd][market['Symbol']=='AAPL']['index'].values\n",
    "    market.head(x[0])\n",
    "    grouped_data = market.head(x[0]).groupby('Symbol')\n",
    "    \n",
    "    for symbol, group in grouped_data:\n",
    "        plt.plot(group['Date'], group['Open'], label=symbol)\n",
    "\n",
    "    plt.xlabel('Date')\n",
    "    plt.ylabel('Stock Price')\n",
    "    plt.title('Stock Price Changes Over Time (Separate Charts for Symbols)')\n",
    "    plt.xticks(rotation=45)\n",
    "    plt.legend()\n",
    "    plt.tight_layout()\n",
    "    plt.show()\n",
    "def reg():\n",
    "    market['Date'] = pd.to_datetime(market['Date'])\n",
    "    x=market.loc[market['Date']==dd][market['Symbol']=='AAPL']['index'].values\n",
    "    market.head(x[0])\n",
    "    grouped_data = market.head(x[0]).groupby('Symbol')\n",
    "    for symbol, group in grouped_data:\n",
    "        plt.figure()  \n",
    "\n",
    "        group['Date_Num'] = mdates.date2num(group['Date'])\n",
    "        plt.plot(group['Date_Num'], group['Open'], label='Stock Price')\n",
    "        sns.regplot(data=group, x='Date_Num', y='Open', scatter=False, color='red', label='Regression Line')\n",
    "        plt.xlabel('Date')\n",
    "        plt.ylabel('Stock Price')\n",
    "        plt.title('Stock Price Changes Over Time for Symbol: ' + symbol)\n",
    "        plt.xticks(rotation=45)\n",
    "        plt.gca().xaxis.set_major_formatter(mdates.DateFormatter('%Y-%m-%d'))\n",
    "        plt.legend()\n",
    "        plt.tight_layout()\n",
    "        plt.show()\n",
    "\n",
    "        "
   ]
  },
  {
   "cell_type": "code",
   "execution_count": 8,
   "id": "ec9f01e3",
   "metadata": {
    "scrolled": true
   },
   "outputs": [
    {
     "name": "stdout",
     "output_type": "stream",
     "text": [
      "1. sign in\n",
      "2. sign up\n",
      "1\n",
      "Enter your ID: 1234567890\n"
     ]
    }
   ],
   "source": [
    "print(\"1. sign in\\n2. sign up\")\n",
    "order=input()\n",
    "if order=='1':\n",
    "    print(\"Enter your ID:\", end=\" \")\n",
    "    ID=input()\n",
    "    b=Check_ID(ID)\n",
    "    if b:\n",
    "        p=Person(b[0],b[1],b[2],b[3],b[4],b[5],b[6],b[7],b[8],b[9])\n",
    "    else:\n",
    "        print(\"ID not found.\\n\")\n",
    "        order='2'\n",
    "if order=='2':\n",
    "    print(\"Enter your ID, name, last name, birthday, and credit seprated with comma\\n\")\n",
    "    ID, name, last_name, birthday, credit= input().split(\",\")\n",
    "    Register(ID, name, last_name, birthday, credit,AAPL,AMZN,FB,GOOGL,TSLA) \n",
    "    p=Person(ID, name, last_name, birthday, credit,AAPL,AMZN,FB,GOOGL,TSLA)"
   ]
  },
  {
   "cell_type": "code",
   "execution_count": 9,
   "id": "46726720",
   "metadata": {},
   "outputs": [
    {
     "name": "stdout",
     "output_type": "stream",
     "text": [
      "Your account balance is: 8727.384986877441\n",
      "1.Market   2.Assets   3.Buy   4.Sell   5.Next day  6.Chart  7.Charts with regression   8.Exit1\n"
     ]
    },
    {
     "data": {
      "text/html": [
       "<div>\n",
       "<style scoped>\n",
       "    .dataframe tbody tr th:only-of-type {\n",
       "        vertical-align: middle;\n",
       "    }\n",
       "\n",
       "    .dataframe tbody tr th {\n",
       "        vertical-align: top;\n",
       "    }\n",
       "\n",
       "    .dataframe thead th {\n",
       "        text-align: right;\n",
       "    }\n",
       "</style>\n",
       "<table border=\"1\" class=\"dataframe\">\n",
       "  <thead>\n",
       "    <tr style=\"text-align: right;\">\n",
       "      <th></th>\n",
       "      <th>index</th>\n",
       "      <th>Date</th>\n",
       "      <th>Symbol</th>\n",
       "      <th>Open</th>\n",
       "      <th>Volume</th>\n",
       "    </tr>\n",
       "  </thead>\n",
       "  <tbody>\n",
       "    <tr>\n",
       "      <th>8545</th>\n",
       "      <td>8545</td>\n",
       "      <td>2016-10-12</td>\n",
       "      <td>AAPL</td>\n",
       "      <td>29.337500</td>\n",
       "      <td>150347200.0</td>\n",
       "    </tr>\n",
       "    <tr>\n",
       "      <th>8546</th>\n",
       "      <td>8546</td>\n",
       "      <td>2016-10-12</td>\n",
       "      <td>AMZN</td>\n",
       "      <td>834.000000</td>\n",
       "      <td>2380400.0</td>\n",
       "    </tr>\n",
       "    <tr>\n",
       "      <th>8547</th>\n",
       "      <td>8547</td>\n",
       "      <td>2016-10-12</td>\n",
       "      <td>FB</td>\n",
       "      <td>129.009995</td>\n",
       "      <td>11073000.0</td>\n",
       "    </tr>\n",
       "    <tr>\n",
       "      <th>8548</th>\n",
       "      <td>8548</td>\n",
       "      <td>2016-10-12</td>\n",
       "      <td>GOOGL</td>\n",
       "      <td>811.960022</td>\n",
       "      <td>907900.0</td>\n",
       "    </tr>\n",
       "    <tr>\n",
       "      <th>8549</th>\n",
       "      <td>8549</td>\n",
       "      <td>2016-10-12</td>\n",
       "      <td>TSLA</td>\n",
       "      <td>40.189999</td>\n",
       "      <td>9853500.0</td>\n",
       "    </tr>\n",
       "  </tbody>\n",
       "</table>\n",
       "</div>"
      ],
      "text/plain": [
       "      index        Date Symbol        Open       Volume\n",
       "8545   8545  2016-10-12   AAPL   29.337500  150347200.0\n",
       "8546   8546  2016-10-12   AMZN  834.000000    2380400.0\n",
       "8547   8547  2016-10-12     FB  129.009995   11073000.0\n",
       "8548   8548  2016-10-12  GOOGL  811.960022     907900.0\n",
       "8549   8549  2016-10-12   TSLA   40.189999    9853500.0"
      ]
     },
     "execution_count": 9,
     "metadata": {},
     "output_type": "execute_result"
    },
    {
     "name": "stdout",
     "output_type": "stream",
     "text": [
      "1.Market   2.Assets   3.Buy   4.Sell   5.Next day  6.Chart  7.Charts with regression   8.Exit6\n"
     ]
    },
    {
     "name": "stderr",
     "output_type": "stream",
     "text": [
      "C:\\Users\\SEPEHR\\AppData\\Local\\Temp\\ipykernel_17664\\1385622045.py:56: UserWarning: Boolean Series key will be reindexed to match DataFrame index.\n",
      "  x=market.loc[market['Date']==dd][market['Symbol']=='AAPL']['index'].values\n"
     ]
    },
    {
     "data": {
      "image/png": "[encoded data removed]",
      "text/plain": [
       "<Figure size 640x480 with 1 Axes>"
      ]
     },
     "metadata": {},
     "output_type": "display_data"
    },
    {
     "name": "stdout",
     "output_type": "stream",
     "text": [
      "1.Market   2.Assets   3.Buy   4.Sell   5.Next day  6.Chart  7.Charts with regression   8.Exit8\n",
      "Thank you for choosing us. Good luck.\n"
     ]
    }
   ],
   "source": [
    "print('Your account balance is:',p.credit)\n",
    "while True:\n",
    "    order=input(\"1.Market   2.Assets   3.Buy   4.Sell   5.Next day  6.Chart  7.Charts with regression   8.Exit\")\n",
    "    if order=='1':\n",
    "        #Market()\n",
    "        market.loc[market['Date']==dd.strftime(\"%Y-%m-%d\")]\n",
    "    elif order=='2':\n",
    "        Assets()\n",
    "    elif order=='3':\n",
    "        Buy()\n",
    "    elif order=='4':\n",
    "        Sell()\n",
    "    elif order=='5':\n",
    "        dd=dd+ timedelta(days=1)\n",
    "        print(dd)\n",
    "    elif order=='6':\n",
    "        chart()\n",
    "    elif order=='7':\n",
    "        reg()\n",
    "    elif order=='8':\n",
    "        print(\"Thank you for choosing us. Good luck.\")\n",
    "        Rewrite_credit(p.ID)\n",
    "        break"
   ]
  },
  {
   "cell_type": "code",
   "execution_count": null,
   "id": "49f8656e",
   "metadata": {},
   "outputs": [],
   "source": []
  }
 ],
 "metadata": {
  "kernelspec": {
   "display_name": "Python 3 (ipykernel)",
   "language": "python",
   "name": "python3"
  },
  "language_info": {
   "codemirror_mode": {
    "name": "ipython",
    "version": 3
   },
   "file_extension": ".py",
   "mimetype": "text/x-python",
   "name": "python",
   "nbconvert_exporter": "python",
   "pygments_lexer": "ipython3",
   "version": "3.9.7"
  }
 },
 "nbformat": 4,
 "nbformat_minor": 5
}
